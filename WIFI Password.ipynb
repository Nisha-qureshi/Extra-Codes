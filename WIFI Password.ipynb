{
 "cells": [
  {
   "cell_type": "code",
   "execution_count": 5,
   "metadata": {},
   "outputs": [],
   "source": [
    "import subprocess\n",
    "\n",
    "a=subprocess.check_output(['netsh','wlan','show','profiles']).decode('utf-8').split(\"\\n\")\n",
    "a=[i.split(':')[1][1:-1] for i in a if \"All user Profile\" in i]\n",
    "\n",
    "for i in a:\n",
    "    results=subprocess.check_output(['netsh','wlan','show','profiles',i, 'key=clear']).decode('utf-8').split('\\n')\n",
    "    results=[b.split(':')[1][1:-1] for b in results if \"Key Content\" in b]\n",
    "    try:\n",
    "        print(\"{:<30}| {:<}\".format(i, results[0]))\n",
    "    except IndexError:\n",
    "        print(\"{:<30}| {:<}\".format(i, \"\"))"
   ]
  },
  {
   "cell_type": "code",
   "execution_count": null,
   "metadata": {},
   "outputs": [],
   "source": []
  }
 ],
 "metadata": {
  "kernelspec": {
   "display_name": "Python 3",
   "language": "python",
   "name": "python3"
  },
  "language_info": {
   "codemirror_mode": {
    "name": "ipython",
    "version": 3
   },
   "file_extension": ".py",
   "mimetype": "text/x-python",
   "name": "python",
   "nbconvert_exporter": "python",
   "pygments_lexer": "ipython3",
   "version": "3.6.5"
  }
 },
 "nbformat": 4,
 "nbformat_minor": 2
}
