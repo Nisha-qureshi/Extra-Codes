{
 "cells": [
  {
   "cell_type": "code",
   "execution_count": 1,
   "metadata": {},
   "outputs": [],
   "source": [
    "from PIL import Image "
   ]
  },
  {
   "cell_type": "code",
   "execution_count": 4,
   "metadata": {},
   "outputs": [],
   "source": [
    "# change extention of image\n",
    "img1=Image.open(\"F:\\wallpapers\\citipie.jpg\")\n",
    "img1.save(\"F:\\wallpapers\\citipie.png\")"
   ]
  },
  {
   "cell_type": "code",
   "execution_count": 5,
   "metadata": {},
   "outputs": [],
   "source": [
    "# change extention of image\n",
    "img1=Image.open(\"F:\\wallpapers\\citipie.jpg\")\n",
    "img1.save(\"F:\\wallpapers\\citipie.pdf\")"
   ]
  },
  {
   "cell_type": "code",
   "execution_count": 6,
   "metadata": {},
   "outputs": [],
   "source": [
    "img1.show()"
   ]
  },
  {
   "cell_type": "code",
   "execution_count": 9,
   "metadata": {},
   "outputs": [],
   "source": [
    "max_size=(1050,1050)\n",
    "img1.thumbnail(max_size)\n",
    "img1.save(\"F:\\wallpapers\\citipiesmall.jpg\")"
   ]
  },
  {
   "cell_type": "code",
   "execution_count": null,
   "metadata": {},
   "outputs": [],
   "source": []
  },
  {
   "cell_type": "code",
   "execution_count": 16,
   "metadata": {},
   "outputs": [
    {
     "data": {
      "text/plain": [
       "['4k-ultra.jpg',\n",
       " '4k.jpg',\n",
       " 'abandoned-places-4729639__480.jpg',\n",
       " 'an-old-abandoned-barn-williamson-county-tennessee-laptop-wallpaper.jpg',\n",
       " 'apple.jpg',\n",
       " 'backgrounds-textures.htm',\n",
       " 'black wallpaper.jpg',\n",
       " 'cat-4731965__480.jpg',\n",
       " 'cat.png',\n",
       " 'christmas-4666370__480.jpg',\n",
       " 'christmas-4704061__480.jpg',\n",
       " 'chrome-hill-4724723__480.jpg',\n",
       " 'citipie.jpg',\n",
       " 'citipie.pdf',\n",
       " 'citipie.png',\n",
       " 'citipiesmall.jpg',\n",
       " 'coach-4727980__480.jpg',\n",
       " 'coach.jpg',\n",
       " 'cute.jpg',\n",
       " 'forest-4707812__480.jpg',\n",
       " 'free-cool.jpg',\n",
       " 'hd-wallpapers-.jpg',\n",
       " 'HP-Official.jpg',\n",
       " 'hp2.jpg',\n",
       " 'hp3.jpg',\n",
       " 'hp4.jpg',\n",
       " 'Infosys',\n",
       " 'landscape-4734181__480.jpg',\n",
       " 'Landscape.jpg',\n",
       " 'mobile.jpg',\n",
       " 'mobile2.jpg',\n",
       " 'mobile3.jpg',\n",
       " 'mobile4.jpg',\n",
       " 'mountains-4732296__480.jpg',\n",
       " 'new-years-eve-4727013__480.jpg',\n",
       " 'night.jpg',\n",
       " 'people-4690996__480.jpg',\n",
       " 'red-and-black-abstract.jpg',\n",
       " 'red-wallpaper.jpg',\n",
       " 'river.jpg',\n",
       " 'rome-4732390__480.jpg',\n",
       " 'sagar.jpg',\n",
       " 'space.jpg',\n",
       " 'spider_man.jpg',\n",
       " 'sunset-4733170__480.jpg',\n",
       " 'sunset-4733498__480.jpg',\n",
       " 'sunset-4734065__480.jpg',\n",
       " 'sunset.jpg',\n",
       " 'tiger.jpg',\n",
       " 'toshiba-nature.jpg',\n",
       " 'winter-4727668__480.jpg',\n",
       " 'your-lie-in-april.jpg']"
      ]
     },
     "execution_count": 16,
     "metadata": {},
     "output_type": "execute_result"
    }
   ],
   "source": [
    "import os\n",
    "os.listdir(\"F:\\wallpapers\")"
   ]
  },
  {
   "cell_type": "code",
   "execution_count": 17,
   "metadata": {},
   "outputs": [
    {
     "ename": "FileNotFoundError",
     "evalue": "[Errno 2] No such file or directory: '4k-ultra.jpg'",
     "output_type": "error",
     "traceback": [
      "\u001b[1;31m---------------------------------------------------------------------------\u001b[0m",
      "\u001b[1;31mFileNotFoundError\u001b[0m                         Traceback (most recent call last)",
      "\u001b[1;32m<ipython-input-17-215c718bf7ae>\u001b[0m in \u001b[0;36m<module>\u001b[1;34m()\u001b[0m\n\u001b[0;32m      1\u001b[0m \u001b[1;32mfor\u001b[0m \u001b[0mitem\u001b[0m \u001b[1;32min\u001b[0m \u001b[0mos\u001b[0m\u001b[1;33m.\u001b[0m\u001b[0mlistdir\u001b[0m\u001b[1;33m(\u001b[0m\u001b[1;34m\"F:\\wallpapers\"\u001b[0m\u001b[1;33m)\u001b[0m\u001b[1;33m:\u001b[0m\u001b[1;33m\u001b[0m\u001b[0m\n\u001b[0;32m      2\u001b[0m         \u001b[1;32mif\u001b[0m \u001b[0mitem\u001b[0m\u001b[1;33m.\u001b[0m\u001b[0mendswith\u001b[0m\u001b[1;33m(\u001b[0m\u001b[1;34m'.jpg'\u001b[0m\u001b[1;33m)\u001b[0m\u001b[1;33m:\u001b[0m\u001b[1;33m\u001b[0m\u001b[0m\n\u001b[1;32m----> 3\u001b[1;33m             \u001b[0mimg1\u001b[0m\u001b[1;33m=\u001b[0m\u001b[0mImage\u001b[0m\u001b[1;33m.\u001b[0m\u001b[0mopen\u001b[0m\u001b[1;33m(\u001b[0m\u001b[0mitem\u001b[0m\u001b[1;33m)\u001b[0m\u001b[1;33m\u001b[0m\u001b[0m\n\u001b[0m\u001b[0;32m      4\u001b[0m             \u001b[0mfilename\u001b[0m\u001b[1;33m,\u001b[0m\u001b[0mextension\u001b[0m\u001b[1;33m=\u001b[0m\u001b[0mos\u001b[0m\u001b[1;33m.\u001b[0m\u001b[0mpath\u001b[0m\u001b[1;33m.\u001b[0m\u001b[0msplitext\u001b[0m\u001b[1;33m(\u001b[0m\u001b[0mitem\u001b[0m\u001b[1;33m)\u001b[0m\u001b[1;33m\u001b[0m\u001b[0m\n\u001b[0;32m      5\u001b[0m             \u001b[0mimg1\u001b[0m\u001b[1;33m.\u001b[0m\u001b[0msave\u001b[0m\u001b[1;33m(\u001b[0m\u001b[1;34mf\"{filename}.png\"\u001b[0m\u001b[1;33m)\u001b[0m\u001b[1;33m\u001b[0m\u001b[0m\n",
      "\u001b[1;32m~\\Anaconda3\\lib\\site-packages\\PIL\\Image.py\u001b[0m in \u001b[0;36mopen\u001b[1;34m(fp, mode)\u001b[0m\n\u001b[0;32m   2546\u001b[0m \u001b[1;33m\u001b[0m\u001b[0m\n\u001b[0;32m   2547\u001b[0m     \u001b[1;32mif\u001b[0m \u001b[0mfilename\u001b[0m\u001b[1;33m:\u001b[0m\u001b[1;33m\u001b[0m\u001b[0m\n\u001b[1;32m-> 2548\u001b[1;33m         \u001b[0mfp\u001b[0m \u001b[1;33m=\u001b[0m \u001b[0mbuiltins\u001b[0m\u001b[1;33m.\u001b[0m\u001b[0mopen\u001b[0m\u001b[1;33m(\u001b[0m\u001b[0mfilename\u001b[0m\u001b[1;33m,\u001b[0m \u001b[1;34m\"rb\"\u001b[0m\u001b[1;33m)\u001b[0m\u001b[1;33m\u001b[0m\u001b[0m\n\u001b[0m\u001b[0;32m   2549\u001b[0m         \u001b[0mexclusive_fp\u001b[0m \u001b[1;33m=\u001b[0m \u001b[1;32mTrue\u001b[0m\u001b[1;33m\u001b[0m\u001b[0m\n\u001b[0;32m   2550\u001b[0m \u001b[1;33m\u001b[0m\u001b[0m\n",
      "\u001b[1;31mFileNotFoundError\u001b[0m: [Errno 2] No such file or directory: '4k-ultra.jpg'"
     ]
    }
   ],
   "source": [
    "for item in os.listdir(\"F:\\wallpapers\"):\n",
    "        if item.endswith('.jpg'):\n",
    "            img1=Image.open(item)\n",
    "            filename,extension=os.path.splitext(item)\n",
    "            img1.save(f\"{filename}.png\")"
   ]
  },
  {
   "cell_type": "code",
   "execution_count": 19,
   "metadata": {},
   "outputs": [],
   "source": [
    "# for increase sharpness module use imageenhance\n",
    "from PIL import ImageEnhance as ie"
   ]
  },
  {
   "cell_type": "code",
   "execution_count": 20,
   "metadata": {},
   "outputs": [],
   "source": [
    "img2=Image.open(\"F:\\wallpapers\\cute.jpg\")\n"
   ]
  },
  {
   "cell_type": "code",
   "execution_count": 25,
   "metadata": {},
   "outputs": [],
   "source": [
    "#-----------------------Sharpness----------------------------\n",
    "enhancer=ie.Sharpness(img2)\n",
    "enhancer.enhance(0).save(\"F:\\wallpapers\\cute_blur.jpg\")\n",
    "enhancer.enhance(10).save(\"F:\\wallpapers\\cute_sharped.jpg\")"
   ]
  },
  {
   "cell_type": "code",
   "execution_count": 26,
   "metadata": {},
   "outputs": [],
   "source": [
    "#values in enhance method\n",
    "# 0-->blury\n",
    "# 1-->original image\n",
    "# 2--> increase sharpness\n",
    "#3--> increase more sharpness"
   ]
  },
  {
   "cell_type": "code",
   "execution_count": 27,
   "metadata": {},
   "outputs": [],
   "source": [
    "\n"
   ]
  },
  {
   "cell_type": "code",
   "execution_count": 29,
   "metadata": {},
   "outputs": [],
   "source": [
    "# --------------------color---------------------------\n",
    "img3=Image.open(\"F:\\wallpapers\\sagar.jpg\")\n",
    "enhancer2=ie.Color(img3)\n",
    "enhancer2.enhance(0).save(\"F:\\wallpapers\\sagar_black.jpg\")\n",
    "enhancer2.enhance(3).save(\"F:\\wallpapers\\sagar_colored.jpg\")\n",
    "#1--original image\n",
    "# 2---increse color\n"
   ]
  },
  {
   "cell_type": "code",
   "execution_count": 31,
   "metadata": {},
   "outputs": [],
   "source": [
    "# ---------------Brightness------------------\n",
    "img3=Image.open(\"F:\\wallpapers\\sunset2.jpg\")\n",
    "enhancer2=ie.Brightness(img3)\n",
    "enhancer2.enhance(0).save(\"F:\\wallpapers\\sunset2_black.jpg\")  #-- black image\n",
    "enhancer2.enhance(1.5).save(\"F:\\wallpapers\\sunset2_bright.jpg\")"
   ]
  },
  {
   "cell_type": "code",
   "execution_count": 32,
   "metadata": {},
   "outputs": [],
   "source": [
    "img3=Image.open(\"F:\\wallpapers\\sunset2_bright.jpg\")\n",
    "enhancer2=ie.Contrast(img3)\n",
    "enhancer2.enhance(0).save(\"F:\\wallpapers\\sun_contrast1.jpg\")\n",
    "enhancer2.enhance(3).save(\"F:\\wallpapers\\sun_contrast2.jpg\")"
   ]
  },
  {
   "cell_type": "code",
   "execution_count": 33,
   "metadata": {},
   "outputs": [],
   "source": [
    "# for blur image ImageFilter module is used"
   ]
  },
  {
   "cell_type": "code",
   "execution_count": 36,
   "metadata": {},
   "outputs": [],
   "source": [
    "from PIL import ImageFilter as ifil"
   ]
  },
  {
   "cell_type": "code",
   "execution_count": 38,
   "metadata": {},
   "outputs": [],
   "source": [
    "img3.filter(ifil.GaussianBlur()).save(\"F:\\wallpapers\\sun_blur.jpg\")"
   ]
  },
  {
   "cell_type": "code",
   "execution_count": 39,
   "metadata": {},
   "outputs": [],
   "source": [
    "img3.filter(ifil.GaussianBlur(radius=4)).save(\"F:\\wallpapers\\sun_blur2.jpg\")"
   ]
  },
  {
   "cell_type": "code",
   "execution_count": null,
   "metadata": {},
   "outputs": [],
   "source": []
  }
 ],
 "metadata": {
  "kernelspec": {
   "display_name": "Python 3",
   "language": "python",
   "name": "python3"
  },
  "language_info": {
   "codemirror_mode": {
    "name": "ipython",
    "version": 3
   },
   "file_extension": ".py",
   "mimetype": "text/x-python",
   "name": "python",
   "nbconvert_exporter": "python",
   "pygments_lexer": "ipython3",
   "version": "3.6.5"
  }
 },
 "nbformat": 4,
 "nbformat_minor": 2
}
