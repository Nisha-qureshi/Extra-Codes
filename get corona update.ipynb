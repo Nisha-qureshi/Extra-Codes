{
 "cells": [
  {
   "cell_type": "code",
   "execution_count": 2,
   "metadata": {},
   "outputs": [
    {
     "name": "stdout",
     "output_type": "stream",
     "text": [
      "Total Cases :  7,324,876\n",
      "Total Death :  413,726\n",
      "Total Recovered :  3,604,926\n"
     ]
    }
   ],
   "source": [
    "import requests\n",
    "from bs4 import BeautifulSoup\n",
    "\n",
    "url = \"https://www.worldometers.info/coronavirus/\"\n",
    "r = requests.get(url)\n",
    "s = BeautifulSoup(r.text,\"html.parser\")\n",
    "data = s.find_all(\"div\", class_= \"maincounter-number\")\n",
    "\n",
    "print(\"Total Cases : \",data[0].text.strip())\n",
    "print(\"Total Death : \",data[1].text.strip())\n",
    "print(\"Total Recovered : \",data[2].text.strip())\n"
   ]
  },
  {
   "cell_type": "code",
   "execution_count": null,
   "metadata": {},
   "outputs": [],
   "source": []
  }
 ],
 "metadata": {
  "kernelspec": {
   "display_name": "Python 3",
   "language": "python",
   "name": "python3"
  },
  "language_info": {
   "codemirror_mode": {
    "name": "ipython",
    "version": 3
   },
   "file_extension": ".py",
   "mimetype": "text/x-python",
   "name": "python",
   "nbconvert_exporter": "python",
   "pygments_lexer": "ipython3",
   "version": "3.6.5"
  }
 },
 "nbformat": 4,
 "nbformat_minor": 2
}
