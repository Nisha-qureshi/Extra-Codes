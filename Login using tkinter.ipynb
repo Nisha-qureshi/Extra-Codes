{
 "cells": [
  {
   "cell_type": "code",
   "execution_count": 1,
   "metadata": {},
   "outputs": [],
   "source": [
    "from tkinter import *\n",
    "\n",
    "def LoginPage():\n",
    "    login_screen=Tk()\n",
    "    login_screen.title('Login')\n",
    "    login_screen.geometry('300x250')\n",
    "    \n",
    "    Label(login_screen, text=\"Please enter login details\").pack()\n",
    "    Label(login_screen, text=\"\").pack()\n",
    "    Label(login_screen, text=\"Username\").pack()\n",
    "    \n",
    "    username_login_entry = Entry(login_screen, textvariable=\"username\")\n",
    "    username_login_entry.pack()\n",
    "    \n",
    "    Label(login_screen, text=\"\").pack()\n",
    "    Label(login_screen, text=\"Password\").pack()\n",
    "    \n",
    "    password_login_entry = Entry(login_screen, textvariable=\"password\", show=\"*\")\n",
    "    password_login_entry.pack()\n",
    "    \n",
    "    Label(login_screen, text=\"\").pack()\n",
    "    Button(login_screen, text=\"Login\", width=10, height=1).pack()\n",
    "    login_screen.mainloop()\n",
    "    \n",
    "LoginPage()   "
   ]
  },
  {
   "cell_type": "code",
   "execution_count": null,
   "metadata": {},
   "outputs": [],
   "source": []
  }
 ],
 "metadata": {
  "kernelspec": {
   "display_name": "Python 3",
   "language": "python",
   "name": "python3"
  },
  "language_info": {
   "codemirror_mode": {
    "name": "ipython",
    "version": 3
   },
   "file_extension": ".py",
   "mimetype": "text/x-python",
   "name": "python",
   "nbconvert_exporter": "python",
   "pygments_lexer": "ipython3",
   "version": "3.6.5"
  }
 },
 "nbformat": 4,
 "nbformat_minor": 2
}
