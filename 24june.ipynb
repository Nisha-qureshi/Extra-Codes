{
 "cells": [
  {
   "cell_type": "code",
   "execution_count": 2,
   "metadata": {},
   "outputs": [
    {
     "name": "stdout",
     "output_type": "stream",
     "text": [
      "GET / HTTP/1.1\r\n",
      "Accept: text/html,application/xhtml+xml,application/xml;q=0.9,*/*;q=0.8\r\n",
      "Accept-Language: en-IN\r\n",
      "Upgrade-Insecure-Requests: 1\r\n",
      "User-Agent: Mozilla/5.0 (Windows NT 10.0; Win64; x64) AppleWebKit/537.36 (KHTML, like Gecko) Chrome/64.0.3282.140 Safari/537.36 Edge/18.17763\r\n",
      "Accept-Encoding: gzip, deflate\r\n",
      "Host: localhost:1324\r\n",
      "Connection: Keep-Alive\r\n",
      "Cookie: _xsrf=2|06af1ba5|8aa1a6400a80a694df57f7d4fa856892|1558964447; username-localhost-8889=\"2|1:0|10:1561082808|23:username-localhost-8889|44:YzdhNTM2MDY5ZjM5NDBlMzhlMDM3YzAyZmU4NDRhZjc=|19a5f75563d04793183dbd26030189d4b984e2c268ea57df850ae7865ef3f91a\"; username-localhost-8888=\"2|1:0|10:1561434938|23:username-localhost-8888|44:NWZiZjhjYmYxNWY0NGYzYmJmMTVhNWRlNjgxZjhkODY=|1592f30958b438ae28a740b8bc37cc6bf18543f854a3984e6c513d128a506c5c\"\r\n",
      "\r\n",
      "\n"
     ]
    }
   ],
   "source": [
    "import socket\n",
    "server=socket.socket()\n",
    "server.bind((\"localhost\",1324))\n",
    "server.listen()\n",
    "client,addr=server.accept()\n",
    "data=client.recv(1024).decode()\n",
    "print(data)\n",
    "client.send(\"hello i am your browser\".encode())\n",
    "client.close()\n",
    "server.close()"
   ]
  },
  {
   "cell_type": "code",
   "execution_count": 1,
   "metadata": {},
   "outputs": [],
   "source": [
    "import socket\n",
    "server=socket.socket()\n",
    "server.bind((\"\",1324)) #\"\"--->means everyone can come\n",
    "server.listen()\n",
    "client,addr=server.accept()\n",
    "data=client.recv(1024).decode()\n",
    "resp=\"\"\"HTTP/1.1 200 ok\n",
    "Content-Type:text/html\n",
    "\n",
    "<!Doctype html>\n",
    "<html>\n",
    "<head><title>hii</title>\n",
    "</head>\n",
    "<body>\n",
    "<h2 style=\"color:red\">Hello world</h2>\n",
    "<p>paragraph</p>\n",
    "</body>\n",
    "</html>\n",
    "\"\"\"\n",
    "client.send(resp.encode())\n",
    "client.close()\n",
    "server.close()"
   ]
  },
  {
   "cell_type": "code",
   "execution_count": null,
   "metadata": {},
   "outputs": [],
   "source": [
    "resp.status_code"
   ]
  },
  {
   "cell_type": "code",
   "execution_count": null,
   "metadata": {},
   "outputs": [],
   "source": []
  },
  {
   "cell_type": "code",
   "execution_count": null,
   "metadata": {},
   "outputs": [],
   "source": []
  },
  {
   "cell_type": "code",
   "execution_count": null,
   "metadata": {},
   "outputs": [],
   "source": []
  },
  {
   "cell_type": "code",
   "execution_count": null,
   "metadata": {},
   "outputs": [],
   "source": []
  },
  {
   "cell_type": "code",
   "execution_count": null,
   "metadata": {},
   "outputs": [],
   "source": [
    "url=\"\""
   ]
  },
  {
   "cell_type": "code",
   "execution_count": null,
   "metadata": {},
   "outputs": [],
   "source": [
    "import time\n",
    "from requests import get\n",
    "import json\n",
    "\n"
   ]
  },
  {
   "cell_type": "code",
   "execution_count": 11,
   "metadata": {},
   "outputs": [],
   "source": [
    "import socket\n",
    "ip1=socket.gethostbyname(\"www.facebook.com\")\n",
    "ip2=socket.gethostbyname(\"www.flightradar.com\")"
   ]
  },
  {
   "cell_type": "code",
   "execution_count": 12,
   "metadata": {},
   "outputs": [
    {
     "data": {
      "text/plain": [
       "'54.68.161.23'"
      ]
     },
     "execution_count": 12,
     "metadata": {},
     "output_type": "execute_result"
    }
   ],
   "source": [
    "ip2"
   ]
  },
  {
   "cell_type": "code",
   "execution_count": 13,
   "metadata": {},
   "outputs": [],
   "source": [
    "import cgi"
   ]
  },
  {
   "cell_type": "code",
   "execution_count": 12,
   "metadata": {},
   "outputs": [],
   "source": [
    "import socket\n",
    "server=socket.socket()\n",
    "server.bind((\"localhost\",132))\n",
    "server.listen()\n",
    "client,addr=server.accept()\n",
    "data=client.recv(1024).decode()\n",
    "resp=\"\"\"HTTP/1.1 200 ok\n",
    "Content-Type:text/html\n",
    "\n",
    "\n",
    "<!Doctype html>\n",
    "<html>\n",
    "<head><title>hii</title>\n",
    "<style>\n",
    "p{\n",
    "background-color:black;\n",
    "color:white;\n",
    "font-size:20px;\n",
    "}\n",
    "</style>\n",
    "</head>\n",
    "<body>\n",
    "<h2 style=\"color:red\">Hello world</h2>\n",
    "<p style=\"color:blue\">This is a paragraph and internal style is applied on this para.</p>\n",
    "<p>shipra</p>\n",
    "</body>\n",
    "</html>\n",
    "\"\"\"\n",
    "client.send(resp.encode())\n",
    "client.close()\n",
    "server.close()"
   ]
  },
  {
   "cell_type": "code",
   "execution_count": null,
   "metadata": {},
   "outputs": [],
   "source": []
  },
  {
   "cell_type": "code",
   "execution_count": null,
   "metadata": {},
   "outputs": [],
   "source": []
  }
 ],
 "metadata": {
  "kernelspec": {
   "display_name": "Python 3",
   "language": "python",
   "name": "python3"
  },
  "language_info": {
   "codemirror_mode": {
    "name": "ipython",
    "version": 3
   },
   "file_extension": ".py",
   "mimetype": "text/x-python",
   "name": "python",
   "nbconvert_exporter": "python",
   "pygments_lexer": "ipython3",
   "version": "3.6.5"
  }
 },
 "nbformat": 4,
 "nbformat_minor": 2
}
