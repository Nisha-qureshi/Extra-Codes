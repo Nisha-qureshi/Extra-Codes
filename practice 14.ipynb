{
 "cells": [
  {
   "cell_type": "code",
   "execution_count": 1,
   "metadata": {},
   "outputs": [],
   "source": [
    "import pandas as pd\n",
    "#data_xls = pd.read_excel('excelfile.xlsx', 'Sheet2', index_col=None)\n",
    "#data_xls.to_csv('csvfile.csv', encoding='utf-8')"
   ]
  },
  {
   "cell_type": "code",
   "execution_count": 3,
   "metadata": {},
   "outputs": [
    {
     "ename": "SyntaxError",
     "evalue": "invalid character in identifier (<ipython-input-3-ddd685285412>, line 2)",
     "output_type": "error",
     "traceback": [
      "\u001b[1;36m  File \u001b[1;32m\"<ipython-input-3-ddd685285412>\"\u001b[1;36m, line \u001b[1;32m2\u001b[0m\n\u001b[1;33m    def __init__(self, val1) :\u001b[0m\n\u001b[1;37m               ^\u001b[0m\n\u001b[1;31mSyntaxError\u001b[0m\u001b[1;31m:\u001b[0m invalid character in identifier\n"
     ]
    }
   ],
   "source": [
    "class ClassA:\n",
    "    def __init__(self, val1) :                \n",
    "        self.value = val1          \n",
    "    def method_a(self) :                \n",
    "        return 10+self.value \n",
    "class ClassB:          \n",
    "    def __init__(self, val2):                \n",
    "        self. num=val2          \n",
    "    def method_b(self, obj):                \n",
    "        return obj.method_a()+self.num\n",
    "obj1=ClassA(20) \n",
    "obj2=ClassB(30) \n",
    "print(obj2.method_b(obj1))\n"
   ]
  },
  {
   "cell_type": "code",
   "execution_count": null,
   "metadata": {},
   "outputs": [],
   "source": []
  }
 ],
 "metadata": {
  "kernelspec": {
   "display_name": "Python 3",
   "language": "python",
   "name": "python3"
  },
  "language_info": {
   "codemirror_mode": {
    "name": "ipython",
    "version": 3
   },
   "file_extension": ".py",
   "mimetype": "text/x-python",
   "name": "python",
   "nbconvert_exporter": "python",
   "pygments_lexer": "ipython3",
   "version": "3.6.5"
  }
 },
 "nbformat": 4,
 "nbformat_minor": 2
}
