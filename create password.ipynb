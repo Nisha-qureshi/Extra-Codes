{
 "cells": [
  {
   "cell_type": "code",
   "execution_count": 5,
   "metadata": {},
   "outputs": [
    {
     "name": "stdout",
     "output_type": "stream",
     "text": [
      "This is highsecurity password  <O|/qgFv#+^?^b9ec2!/\n"
     ]
    }
   ],
   "source": [
    "import random\n",
    "from string import digits\n",
    "from string import punctuation\n",
    "from string import ascii_letters\n",
    "\n",
    "symbols = ascii_letters + digits + punctuation\n",
    "secure_random = random.SystemRandom()\n",
    "password = \"\".join(secure_random.choice(symbols)for i in range(20))\n",
    "print(\"This is highsecurity password \", password)"
   ]
  },
  {
   "cell_type": "code",
   "execution_count": null,
   "metadata": {},
   "outputs": [],
   "source": []
  }
 ],
 "metadata": {
  "kernelspec": {
   "display_name": "Python 3",
   "language": "python",
   "name": "python3"
  },
  "language_info": {
   "codemirror_mode": {
    "name": "ipython",
    "version": 3
   },
   "file_extension": ".py",
   "mimetype": "text/x-python",
   "name": "python",
   "nbconvert_exporter": "python",
   "pygments_lexer": "ipython3",
   "version": "3.6.5"
  }
 },
 "nbformat": 4,
 "nbformat_minor": 2
}
