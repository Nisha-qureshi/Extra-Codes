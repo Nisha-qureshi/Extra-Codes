{
 "cells": [
  {
   "cell_type": "code",
   "execution_count": 4,
   "metadata": {},
   "outputs": [
    {
     "name": "stderr",
     "output_type": "stream",
     "text": [
      "Exception ignored in: <bound method Person.__del__ of <__main__.Person object at 0x0000023F173B5978>>\n",
      "Traceback (most recent call last):\n",
      "  File \"<ipython-input-3-4b5ed3918701>\", line 7, in __del__\n",
      "NameError: name 'obj' is not defined\n"
     ]
    }
   ],
   "source": [
    "class Person:\n",
    "    count=0\n",
    "    def __init__(self,a,b):\n",
    "        self.name=a\n",
    "        self.age=b\n",
    "    def __del__(self,obj):\n",
    "        print(f\"object is deleted:{obj}\")\n",
    "p1=Person(\"NISHA\",19) #-->object of Person class is created\n",
    "p1.name  #-->object passes self bydefault as an argument\n",
    "p1.age\n",
    "del p1.name"
   ]
  },
  {
   "cell_type": "code",
   "execution_count": 8,
   "metadata": {},
   "outputs": [],
   "source": [
    "def hello(old_func):\n",
    "    def show():\n",
    "        old_func()\n",
    "        print(\"hello\")\n",
    "@hello\n",
    "def hii():\n",
    "    print(\"this is hii function which is passed into old_func::\")\n"
   ]
  },
  {
   "cell_type": "code",
   "execution_count": 16,
   "metadata": {},
   "outputs": [
    {
     "name": "stdout",
     "output_type": "stream",
     "text": [
      "############\n",
      "hello i am decorator :-)\n",
      "@@@@@@@@@@@@@@@@@@@@\n"
     ]
    }
   ],
   "source": [
    "def decorate(*args):\n",
    "    print(\"#\"*12)\n",
    "    print(\"hello i am decorator :-)\")\n",
    "    print(\"@\"*20)\n",
    "decorate()\n",
    "    "
   ]
  },
  {
   "cell_type": "code",
   "execution_count": 19,
   "metadata": {},
   "outputs": [
    {
     "name": "stdout",
     "output_type": "stream",
     "text": [
      "you\n"
     ]
    }
   ],
   "source": [
    "class hi:\n",
    "    def show():\n",
    "        print(\"you\")\n",
    "hi.show(\"gfs\")"
   ]
  },
  {
   "cell_type": "code",
   "execution_count": 21,
   "metadata": {},
   "outputs": [
    {
     "name": "stdout",
     "output_type": "stream",
     "text": [
      "Enter your name:nisha\n",
      "~~~~~~~~~~~~~~~~~~~~~~~~~~~~~~\n",
      "Nisha! What can I do for you :)\n",
      "~~~~~~~~~~~~~~~~~~~~~~~~~~~~~~\n"
     ]
    }
   ],
   "source": [
    "class main_decorator:\n",
    "    def __init__(self,n):\n",
    "        print(\"~\"*30)\n",
    "        print(f\"{n}! What can I do for you :)\")\n",
    "        print(\"~\"*30)\n",
    "name=input(\"Enter your name:\").title().strip()\n",
    "m1=main_decorator(name)\n",
    "        \n",
    "        "
   ]
  },
  {
   "cell_type": "code",
   "execution_count": null,
   "metadata": {},
   "outputs": [],
   "source": [
    "class check:\n",
    "    count=0\n",
    "    def ch(self,)"
   ]
  }
 ],
 "metadata": {
  "kernelspec": {
   "display_name": "Python 3",
   "language": "python",
   "name": "python3"
  },
  "language_info": {
   "codemirror_mode": {
    "name": "ipython",
    "version": 3
   },
   "file_extension": ".py",
   "mimetype": "text/x-python",
   "name": "python",
   "nbconvert_exporter": "python",
   "pygments_lexer": "ipython3",
   "version": "3.6.5"
  }
 },
 "nbformat": 4,
 "nbformat_minor": 2
}
