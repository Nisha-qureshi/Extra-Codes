{
 "cells": [
  {
   "cell_type": "code",
   "execution_count": 2,
   "metadata": {},
   "outputs": [],
   "source": [
    "from tkinter import *\n",
    "root=Tk()\n",
    "root.geometry('700x700')  # screen size on startup\n",
    "root.title('Changing screen size')  \n",
    "subject=Label(root, text='You can change screen size according to our wish',\n",
    "              font='comicsansms 13 bold', borderwidth=3, relief=SUNKEN)\n",
    "can_width= StringVar()\n",
    "can_height = StringVar()\n",
    "\n",
    "def update():\n",
    "    root.geometry(f\"{can_width.get()}x{can_height.get()}\")\n",
    "    #setting new width and height \n",
    "    \n",
    "width = Label(root, text=\"Enter width\")\n",
    "height = Label(root, text=\"Enter height\")\n",
    "\n",
    "width_entry = Entry(root, textvariable=can_width) #taking new width\n",
    "height_entry = Entry(root, textvariable=can_height) #taking new height\n",
    "\n",
    "width.grid(row=0, column=0)\n",
    "height.grid(row=1, column=0)\n",
    "\n",
    "width_entry.grid(row=0, column=1)\n",
    "height_entry.grid(row=1, column=1)\n",
    "\n",
    "Button(root, text=\"APPLY\", command=update).grid(row=2, column=1, pady=12)\n",
    "subject.grid(row=3, column=1, pady=12)\n",
    "\n",
    "root.mainloop()"
   ]
  },
  {
   "cell_type": "code",
   "execution_count": null,
   "metadata": {},
   "outputs": [],
   "source": []
  }
 ],
 "metadata": {
  "kernelspec": {
   "display_name": "Python 3",
   "language": "python",
   "name": "python3"
  },
  "language_info": {
   "codemirror_mode": {
    "name": "ipython",
    "version": 3
   },
   "file_extension": ".py",
   "mimetype": "text/x-python",
   "name": "python",
   "nbconvert_exporter": "python",
   "pygments_lexer": "ipython3",
   "version": "3.6.5"
  }
 },
 "nbformat": 4,
 "nbformat_minor": 2
}
