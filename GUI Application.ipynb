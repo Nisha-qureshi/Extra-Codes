{
 "cells": [
  {
   "cell_type": "code",
   "execution_count": 1,
   "metadata": {},
   "outputs": [],
   "source": [
    "import tkinter as tk\n",
    "from tkinter import ttk"
   ]
  },
  {
   "cell_type": "code",
   "execution_count": 2,
   "metadata": {},
   "outputs": [],
   "source": [
    "win=tk.Tk()\n",
    "win.title(\"GUI Application\")\n",
    "\n",
    "#create labels\n",
    "name_label=ttk.Label(win,text=\"Enter your name: \")\n",
    "name_label.grid(row=0,column=0,sticky=tk.W)\n",
    "\n",
    "#create an variabele of stringtype and entrybox\n",
    "name_var=tk.StringVar()\n",
    "name_entry=ttk.Entry(win,width=20,textvariable=name_var)\n",
    "name_entry.grid(row=0,column=1)\n",
    "name_entry.focus()\n",
    "name_label.configure(foreground='Blue')\n",
    "\n",
    "email_label=ttk.Label(win,text=\"Enter your email: \")\n",
    "email_label.grid(row=2,column=0,sticky=tk.W)\n",
    "email_var=tk.StringVar()\n",
    "email_entry=ttk.Entry(win,width=20,textvariable=email_var)\n",
    "email_entry.grid(row=2,column=1)\n",
    "\n",
    "email_label.configure(foreground='Blue')\n",
    "\n",
    "age_label=ttk.Label(win,text=\"Enter your age: \")\n",
    "age_label.grid(row=4,column=0,sticky=tk.W)\n",
    "age_var=tk.StringVar()\n",
    "age_entry=ttk.Entry(win,width=20,textvariable=age_var)\n",
    "age_entry.grid(row=4,column=1)\n",
    "\n",
    "age_label.configure(foreground='Blue')\n",
    "\n",
    "#create input list or combobox\n",
    "gender_label=ttk.Label(win,text=\"Gender: \")\n",
    "gender_label.grid(row=6,column=0)\n",
    "\n",
    "gender_label.configure(foreground='Blue')\n",
    "g_var=tk.StringVar()\n",
    "g_combobox=ttk.Combobox(win,width=20,textvariable=g_var,state='readonly')\n",
    "g_combobox['values']=('Male','Female', 'Other')\n",
    "g_combobox.current(0)\n",
    "g_combobox.grid(row=6,column=1)\n",
    "\n",
    "#create radio buttons\n",
    "\n",
    "usertype=tk.StringVar()\n",
    "rbtn1=ttk.Radiobutton(win,text='Student',value='Student',variable=usertype)\n",
    "rbtn1.grid(row=7,column=0)\n",
    "rbtn2=ttk.Radiobutton(win,text='Teacher',value='Teacher',variable=usertype)\n",
    "rbtn2.grid(row=7,column=1)\n",
    "rbtn3=ttk.Radiobutton(win,text='BusinessPerson',value='BusinessPerson',variable=usertype)\n",
    "rbtn3.grid(row=7,column=2)\n",
    "\n",
    "\n",
    "\n",
    "\n",
    "#create checkbutton\n",
    "checkbtn_var=tk.IntVar()\n",
    "checkbtn=ttk.Checkbutton(win,text='Please subscribe our channel for more updates',variable=checkbtn_var)\n",
    "checkbtn.grid(row=8,columnspan=3)\n",
    "\n",
    "\n",
    "\n",
    "\n",
    "def action():\n",
    "    username=name_var.get()\n",
    "    useremail=email_var.get()\n",
    "    userage=age_var.get()\n",
    "    if checkbtn_var.get()==0:\n",
    "        subscribed='No'\n",
    "    else:\n",
    "        subscribed='Yes'\n",
    "    name_entry.delete(0,tk.END)\n",
    "    age_entry.delete(0,tk.END)\n",
    "    email_entry.delete(0,tk.END)\n",
    "    \n",
    "        \n",
    "submit_btn=ttk.Button(win,text=\"Submit\",command=action)\n",
    "submit_btn.grid(row=3,column=0)"
   ]
  },
  {
   "cell_type": "code",
   "execution_count": 3,
   "metadata": {},
   "outputs": [],
   "source": [
    "win.mainloop()"
   ]
  },
  {
   "cell_type": "code",
   "execution_count": null,
   "metadata": {},
   "outputs": [],
   "source": []
  },
  {
   "cell_type": "code",
   "execution_count": null,
   "metadata": {},
   "outputs": [],
   "source": []
  }
 ],
 "metadata": {
  "kernelspec": {
   "display_name": "Python 3",
   "language": "python",
   "name": "python3"
  },
  "language_info": {
   "codemirror_mode": {
    "name": "ipython",
    "version": 3
   },
   "file_extension": ".py",
   "mimetype": "text/x-python",
   "name": "python",
   "nbconvert_exporter": "python",
   "pygments_lexer": "ipython3",
   "version": "3.6.5"
  }
 },
 "nbformat": 4,
 "nbformat_minor": 2
}
