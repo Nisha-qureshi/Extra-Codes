{
 "cells": [
  {
   "cell_type": "code",
   "execution_count": 9,
   "metadata": {},
   "outputs": [
    {
     "ename": "SyntaxError",
     "evalue": "invalid syntax (<ipython-input-9-83ff28306520>, line 33)",
     "output_type": "error",
     "traceback": [
      "\u001b[1;36m  File \u001b[1;32m\"<ipython-input-9-83ff28306520>\"\u001b[1;36m, line \u001b[1;32m33\u001b[0m\n\u001b[1;33m    if key == curses.KEY_DOWN :\u001b[0m\n\u001b[1;37m                              ^\u001b[0m\n\u001b[1;31mSyntaxError\u001b[0m\u001b[1;31m:\u001b[0m invalid syntax\n"
     ]
    }
   ],
   "source": [
    "import random \n",
    "import curses\n",
    "\n",
    "s = curses.initscr()\n",
    "curses.curs_set(0)\n",
    "sh,sw = s.getmaxyx()\n",
    "w = curses.newwin(sh,sw,0,0)\n",
    "w.keypad(1)\n",
    "w.timeout(100)\n",
    "snk_x = sw/4\n",
    "snk_y = sh/2\n",
    "snake = [\n",
    "    [snk_y, snk_x],\n",
    "    [snk_y, snk_x-1],\n",
    "    [snk_y, snk_x-2]\n",
    "    \n",
    "]\n",
    "food = [sh/2,sw/2]\n",
    "w.addch(food[0], food[1], curses.ACS_PI)\n",
    "\n",
    "key=curses.KEY_RIGHT\n",
    "\n",
    "while True:\n",
    "        next_key = w.getch()\n",
    "        key = key if next_key == -1 else next_key\n",
    "        \n",
    "        if snake[0][0] in [0, sh] or snake[0][1] in [0, sw] or snake[0] in snake[1:]:\n",
    "            curses.endwin()\n",
    "            quit()\n",
    "            \n",
    "        new_head = [snake[0[0], snake[0][1]]\n",
    "        \n",
    "        if key == curses.KEY_DOWN :\n",
    "            new_head[0] += 1\n",
    "        if key == curses.KEY_UP :\n",
    "            new_head[0] -= 1\n",
    "        if key == curses.KEY_LEFT :\n",
    "            new_head[1] -= 1\n",
    "        if key == curses.KEY_RIGHT :\n",
    "            new_head[1] += 1\n",
    "                    \n",
    "        snake.insert(0, new_head)\n",
    "                 \n",
    "        if snake[0] == food:\n",
    "            food = None\n",
    "            while food is None:\n",
    "                 nf = [\n",
    "                     random.randint(1, sh-1),\n",
    "                     random.randint(1, sw-1)\n",
    "                 ]\n",
    "                 food = nf if nf not in snake else None\n",
    "            w.addch(food[0], food[1], curses.ACS_PI)\n",
    "        else: \n",
    "            tall = snake.pop()\n",
    "            w.addch(tail[0], tail[1], ' ')\n",
    "        \n",
    "        w.addch(snake[0][0], snake[0][1], curses.ACS_CKBOARD)\n",
    "                 \n",
    "                 \n",
    "        "
   ]
  },
  {
   "cell_type": "code",
   "execution_count": 12,
   "metadata": {},
   "outputs": [
    {
     "ename": "NameError",
     "evalue": "name 'window' is not defined",
     "output_type": "error",
     "traceback": [
      "\u001b[1;31m---------------------------------------------------------------------------\u001b[0m",
      "\u001b[1;31mNameError\u001b[0m                                 Traceback (most recent call last)",
      "\u001b[1;32m<ipython-input-12-7e8e2f150932>\u001b[0m in \u001b[0;36m<module>\u001b[1;34m()\u001b[0m\n\u001b[1;32m----> 1\u001b[1;33m \u001b[0mhelp\u001b[0m\u001b[1;33m(\u001b[0m\u001b[0mwindow\u001b[0m\u001b[1;33m-\u001b[0m\u001b[0mcurses\u001b[0m\u001b[1;33m)\u001b[0m\u001b[1;33m\u001b[0m\u001b[0m\n\u001b[0m",
      "\u001b[1;31mNameError\u001b[0m: name 'window' is not defined"
     ]
    }
   ],
   "source": [
    "help(window-curses)\n"
   ]
  },
  {
   "cell_type": "code",
   "execution_count": null,
   "metadata": {},
   "outputs": [],
   "source": []
  }
 ],
 "metadata": {
  "kernelspec": {
   "display_name": "Python 3",
   "language": "python",
   "name": "python3"
  },
  "language_info": {
   "codemirror_mode": {
    "name": "ipython",
    "version": 3
   },
   "file_extension": ".py",
   "mimetype": "text/x-python",
   "name": "python",
   "nbconvert_exporter": "python",
   "pygments_lexer": "ipython3",
   "version": "3.6.5"
  }
 },
 "nbformat": 4,
 "nbformat_minor": 2
}
