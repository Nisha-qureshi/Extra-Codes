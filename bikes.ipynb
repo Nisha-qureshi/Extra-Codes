{
 "cells": [
  {
   "cell_type": "code",
   "execution_count": 2,
   "metadata": {},
   "outputs": [],
   "source": [
    "import matplotlib.pyplot as plt\n",
    "import pandas as pd\n",
    "import numpy as np\n",
    "import seaborn as sns"
   ]
  },
  {
   "cell_type": "code",
   "execution_count": 3,
   "metadata": {},
   "outputs": [],
   "source": [
    "#bikes=pd.read_csv(\"file://G:/data/baseball.csv\")"
   ]
  },
  {
   "cell_type": "code",
   "execution_count": 4,
   "metadata": {},
   "outputs": [],
   "source": [
    "s=pd.Series(np.random.randint(10,50,100))"
   ]
  },
  {
   "cell_type": "code",
   "execution_count": 5,
   "metadata": {},
   "outputs": [
    {
     "data": {
      "text/plain": [
       "0     49\n",
       "1     25\n",
       "2     21\n",
       "3     37\n",
       "4     41\n",
       "5     14\n",
       "6     13\n",
       "7     16\n",
       "8     49\n",
       "9     21\n",
       "10    29\n",
       "11    41\n",
       "12    38\n",
       "13    23\n",
       "14    12\n",
       "15    29\n",
       "16    24\n",
       "17    36\n",
       "18    15\n",
       "19    12\n",
       "20    45\n",
       "21    38\n",
       "22    34\n",
       "23    17\n",
       "24    47\n",
       "25    33\n",
       "26    18\n",
       "27    36\n",
       "28    11\n",
       "29    34\n",
       "      ..\n",
       "70    38\n",
       "71    33\n",
       "72    38\n",
       "73    42\n",
       "74    43\n",
       "75    15\n",
       "76    49\n",
       "77    30\n",
       "78    45\n",
       "79    26\n",
       "80    31\n",
       "81    47\n",
       "82    23\n",
       "83    40\n",
       "84    14\n",
       "85    39\n",
       "86    45\n",
       "87    22\n",
       "88    19\n",
       "89    24\n",
       "90    22\n",
       "91    22\n",
       "92    36\n",
       "93    11\n",
       "94    37\n",
       "95    38\n",
       "96    25\n",
       "97    11\n",
       "98    42\n",
       "99    28\n",
       "Length: 100, dtype: int32"
      ]
     },
     "execution_count": 5,
     "metadata": {},
     "output_type": "execute_result"
    }
   ],
   "source": [
    "s"
   ]
  },
  {
   "cell_type": "code",
   "execution_count": 6,
   "metadata": {},
   "outputs": [],
   "source": [
    "#print(s.sort_values())"
   ]
  },
  {
   "cell_type": "code",
   "execution_count": null,
   "metadata": {},
   "outputs": [],
   "source": []
  }
 ],
 "metadata": {
  "kernelspec": {
   "display_name": "Python 3",
   "language": "python",
   "name": "python3"
  },
  "language_info": {
   "codemirror_mode": {
    "name": "ipython",
    "version": 3
   },
   "file_extension": ".py",
   "mimetype": "text/x-python",
   "name": "python",
   "nbconvert_exporter": "python",
   "pygments_lexer": "ipython3",
   "version": "3.6.5"
  }
 },
 "nbformat": 4,
 "nbformat_minor": 2
}
