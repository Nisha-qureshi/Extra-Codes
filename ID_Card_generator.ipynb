{
 "cells": [
  {
   "cell_type": "code",
   "execution_count": 5,
   "metadata": {},
   "outputs": [
    {
     "name": "stdout",
     "output_type": "stream",
     "text": [
      "\n",
      "The following command must be run outside of the IPython shell:\n",
      "\n",
      "    $ pip install qrcode\n",
      "\n",
      "The Python package manager (pip) can only be used from outside of IPython.\n",
      "Please reissue the `pip` command in a separate terminal or command prompt.\n",
      "\n",
      "See the Python documentation for more information on how to install packages:\n",
      "\n",
      "    https://docs.python.org/3/installing/\n"
     ]
    }
   ],
   "source": [
    "pip install qrcode"
   ]
  },
  {
   "cell_type": "code",
   "execution_count": 6,
   "metadata": {},
   "outputs": [
    {
     "name": "stdout",
     "output_type": "stream",
     "text": [
      "\n",
      "The following command must be run outside of the IPython shell:\n",
      "\n",
      "    $ pip install qrcode[pil]\n",
      "\n",
      "The Python package manager (pip) can only be used from outside of IPython.\n",
      "Please reissue the `pip` command in a separate terminal or command prompt.\n",
      "\n",
      "See the Python documentation for more information on how to install packages:\n",
      "\n",
      "    https://docs.python.org/3/installing/\n"
     ]
    }
   ],
   "source": [
    "pip install qrcode[pil]"
   ]
  },
  {
   "cell_type": "code",
   "execution_count": 2,
   "metadata": {},
   "outputs": [
    {
     "data": {
      "text/plain": [
       "'C:\\\\Users\\\\hp'"
      ]
     },
     "execution_count": 2,
     "metadata": {},
     "output_type": "execute_result"
    }
   ],
   "source": [
    "import os\n",
    "os.getcwd()"
   ]
  },
  {
   "cell_type": "code",
   "execution_count": 1,
   "metadata": {},
   "outputs": [
    {
     "name": "stdout",
     "output_type": "stream",
     "text": [
      "+++++++++++++++++++++++++++++++++++++++++++++++++++++++++++++++++++++++++++++++++++++++++++++++++++++++++++++++++++++++\n",
      "  20-12-2019\t\t\t\t\t ID CARD Generator\t\t\t\t\t  09:11:01 PM\n",
      "+++++++++++++++++++++++++++++++++++++++++++++++++++++++++++++++++++++++++++++++++++++++++++++++++++++++++++++++++++++++\n",
      "\n",
      "\n",
      "All Fields are Mandatory\n",
      "Avoid any kind of Spelling Mistakes\n",
      "Write Everything in uppercase letters\n",
      "\n",
      "Enter Your Company Name: nis\n",
      "Enter Your Full Name: nhj\n",
      "Enter Your Gender: mmkl\n",
      "Enter Your Age: nkkkkkkkkkkkm\n",
      "Enter Your Date Of Birth: kml km m\n",
      "Enter Your Blood Group: m \n",
      "Enter Your Mobile Number: 09876534567\n",
      "Enter Your Address: lkjh hbnm\n"
     ]
    },
    {
     "ename": "FileNotFoundError",
     "evalue": "[Errno 2] No such file or directory: '32234322.bmp'",
     "output_type": "error",
     "traceback": [
      "\u001b[1;31m---------------------------------------------------------------------------\u001b[0m",
      "\u001b[1;31mFileNotFoundError\u001b[0m                         Traceback (most recent call last)",
      "\u001b[1;32m<ipython-input-1-cd7cce49f7b2>\u001b[0m in \u001b[0;36m<module>\u001b[1;34m()\u001b[0m\n\u001b[0;32m    100\u001b[0m \u001b[1;33m\u001b[0m\u001b[0m\n\u001b[0;32m    101\u001b[0m \u001b[0mtil\u001b[0m \u001b[1;33m=\u001b[0m \u001b[0mImage\u001b[0m\u001b[1;33m.\u001b[0m\u001b[0mopen\u001b[0m\u001b[1;33m(\u001b[0m\u001b[0mname\u001b[0m\u001b[1;33m+\u001b[0m\u001b[1;34m'.png'\u001b[0m\u001b[1;33m)\u001b[0m\u001b[1;33m\u001b[0m\u001b[0m\n\u001b[1;32m--> 102\u001b[1;33m \u001b[0mim\u001b[0m \u001b[1;33m=\u001b[0m \u001b[0mImage\u001b[0m\u001b[1;33m.\u001b[0m\u001b[0mopen\u001b[0m\u001b[1;33m(\u001b[0m\u001b[0mstr\u001b[0m\u001b[1;33m(\u001b[0m\u001b[0midno\u001b[0m\u001b[1;33m)\u001b[0m\u001b[1;33m+\u001b[0m\u001b[1;34m'.bmp'\u001b[0m\u001b[1;33m)\u001b[0m \u001b[1;31m#25x25\u001b[0m\u001b[1;33m\u001b[0m\u001b[0m\n\u001b[0m\u001b[0;32m    103\u001b[0m \u001b[0mtil\u001b[0m\u001b[1;33m.\u001b[0m\u001b[0mpaste\u001b[0m\u001b[1;33m(\u001b[0m\u001b[0mim\u001b[0m\u001b[1;33m,\u001b[0m\u001b[1;33m(\u001b[0m\u001b[1;36m600\u001b[0m\u001b[1;33m,\u001b[0m\u001b[1;36m350\u001b[0m\u001b[1;33m)\u001b[0m\u001b[1;33m)\u001b[0m\u001b[1;33m\u001b[0m\u001b[0m\n\u001b[0;32m    104\u001b[0m \u001b[0mtil\u001b[0m\u001b[1;33m.\u001b[0m\u001b[0msave\u001b[0m\u001b[1;33m(\u001b[0m\u001b[0mname\u001b[0m\u001b[1;33m+\u001b[0m\u001b[1;34m'.png'\u001b[0m\u001b[1;33m)\u001b[0m\u001b[1;33m\u001b[0m\u001b[0m\n",
      "\u001b[1;32m~\\Anaconda3\\lib\\site-packages\\PIL\\Image.py\u001b[0m in \u001b[0;36mopen\u001b[1;34m(fp, mode)\u001b[0m\n\u001b[0;32m   2546\u001b[0m \u001b[1;33m\u001b[0m\u001b[0m\n\u001b[0;32m   2547\u001b[0m     \u001b[1;32mif\u001b[0m \u001b[0mfilename\u001b[0m\u001b[1;33m:\u001b[0m\u001b[1;33m\u001b[0m\u001b[0m\n\u001b[1;32m-> 2548\u001b[1;33m         \u001b[0mfp\u001b[0m \u001b[1;33m=\u001b[0m \u001b[0mbuiltins\u001b[0m\u001b[1;33m.\u001b[0m\u001b[0mopen\u001b[0m\u001b[1;33m(\u001b[0m\u001b[0mfilename\u001b[0m\u001b[1;33m,\u001b[0m \u001b[1;34m\"rb\"\u001b[0m\u001b[1;33m)\u001b[0m\u001b[1;33m\u001b[0m\u001b[0m\n\u001b[0m\u001b[0;32m   2549\u001b[0m         \u001b[0mexclusive_fp\u001b[0m \u001b[1;33m=\u001b[0m \u001b[1;32mTrue\u001b[0m\u001b[1;33m\u001b[0m\u001b[0m\n\u001b[0;32m   2550\u001b[0m \u001b[1;33m\u001b[0m\u001b[0m\n",
      "\u001b[1;31mFileNotFoundError\u001b[0m: [Errno 2] No such file or directory: '32234322.bmp'"
     ]
    }
   ],
   "source": [
    "from PIL import Image, ImageDraw, ImageFont\n",
    "image = Image.new('RGB', (1000,900), (255, 255, 255))\n",
    "draw = ImageDraw.Draw(image)\n",
    "font = ImageFont.truetype('arial.ttf', size=45)\n",
    "import random\n",
    "import os\n",
    "import datetime\n",
    "import qrcode\n",
    "os.system(\"title ID CARD Generator by Nisha\")\n",
    "\n",
    "d_date = datetime.datetime.now()\n",
    "reg_format_date = d_date.strftime(\"  %d-%m-%Y\\t\\t\\t\\t\\t ID CARD Generator\\t\\t\\t\\t\\t  %I:%M:%S %p\")\n",
    "print ('+++++++++++++++++++++++++++++++++++++++++++++++++++++++++++++++++++++++++++++++++++++++++++++++++++++++++++++++++++++++')\n",
    "print (reg_format_date)\n",
    "print ('+++++++++++++++++++++++++++++++++++++++++++++++++++++++++++++++++++++++++++++++++++++++++++++++++++++++++++++++++++++++')\n",
    " \n",
    "# starting position of the message\n",
    "print('\\n\\nAll Fields are Mandatory') \n",
    "print('Avoid any kind of Spelling Mistakes')\n",
    "print('Write Everything in uppercase letters')\n",
    "(x, y) = (50, 50)\n",
    "message = input('\\nEnter Your Company Name: ')\n",
    "company=message\n",
    "color = 'rgb(0, 0, 0)'\n",
    "font = ImageFont.truetype('arial.ttf', size=80)\n",
    "draw.text((x, y), message, fill=color, font=font)\n",
    "\n",
    "\n",
    "# adding an unique id number. You can manually take it from user\n",
    "(x, y) = (600, 75)\n",
    "idno=random.randint(10000000,90000000)\n",
    "message = str('ID '+str(idno))\n",
    "color = 'rgb(0, 0, 0)' # black color\n",
    "font = ImageFont.truetype('arial.ttf', size=60)\n",
    "draw.text((x, y), message, fill=color, font=font)\n",
    "\n",
    "\n",
    "\n",
    "\n",
    "(x, y) = (50, 250)\n",
    "message = input('Enter Your Full Name: ')\n",
    "name=message\n",
    "color = 'rgb(0, 0, 0)' # black color\n",
    "font = ImageFont.truetype('arial.ttf', size=45)\n",
    "draw.text((x, y), message, fill=color, font=font)\n",
    "\n",
    "\n",
    "\n",
    "(x, y) = (50, 350)\n",
    "message = input('Enter Your Gender: ')\n",
    "color = 'rgb(0, 0, 0)' # black color \n",
    "draw.text((x, y), message, fill=color, font=font)\n",
    "(x, y) = (250, 350)\n",
    "message = input('Enter Your Age: ')\n",
    "color = 'rgb(0, 0, 0)' # black color \n",
    "draw.text((x, y), message, fill=color, font=font)\n",
    "\n",
    "\n",
    "\n",
    "(x, y) = (50, 450)\n",
    "message = input('Enter Your Date Of Birth: ')\n",
    "color = 'rgb(0, 0, 0)' # black color \n",
    "draw.text((x, y), message, fill=color, font=font)\n",
    "\n",
    "\n",
    "\n",
    "(x, y) = (50, 550)\n",
    "message = input('Enter Your Blood Group: ')\n",
    "color = 'rgb(255, 0, 0)' # black color \n",
    "draw.text((x, y), message, fill=color, font=font)\n",
    "\n",
    "\n",
    "\n",
    "(x, y) = (50, 650)\n",
    "message = input('Enter Your Mobile Number: ')\n",
    "temp=message\n",
    "color = 'rgb(0, 0, 0)' # black color \n",
    "draw.text((x, y), message, fill=color, font=font)\n",
    "\n",
    "\n",
    "\n",
    "\n",
    "(x, y) = (50, 750)\n",
    "message = input('Enter Your Address: ')\n",
    "color = 'rgb(0, 0, 0)' # black color \n",
    "draw.text((x, y), message, fill=color, font=font)\n",
    "\n",
    "\n",
    "\n",
    "\n",
    "# save the edited image\n",
    " \n",
    "image.save(str(name)+'.png')\n",
    "\n",
    "\n",
    "\n",
    "# img = qrcode.make(str(company)+str(idno))   # this info. is added in QR code, also add other things\n",
    "# img.save(str(idno)+'.bmp')\n",
    "\n",
    "\n",
    "til = Image.open(name+'.png')\n",
    "im = Image.open(str(idno)+'.bmp') #25x25\n",
    "til.paste(im,(600,350))\n",
    "til.save(name+'.png')\n",
    "\n",
    "print(('\\n\\n\\nYour ID Card Successfully created in a PNG file '+name+'.png'))\n",
    "eval(input('\\n\\nPress any key to Close program...'))\n"
   ]
  },
  {
   "cell_type": "code",
   "execution_count": 11,
   "metadata": {},
   "outputs": [
    {
     "ename": "ModuleNotFoundError",
     "evalue": "No module named 'qrcodeimg'",
     "output_type": "error",
     "traceback": [
      "\u001b[1;31m---------------------------------------------------------------------------\u001b[0m",
      "\u001b[1;31mModuleNotFoundError\u001b[0m                       Traceback (most recent call last)",
      "\u001b[1;32m<ipython-input-11-9d298be19592>\u001b[0m in \u001b[0;36m<module>\u001b[1;34m()\u001b[0m\n\u001b[1;32m----> 1\u001b[1;33m \u001b[1;32mimport\u001b[0m \u001b[0mqrcodeimg\u001b[0m\u001b[1;33m\u001b[0m\u001b[0m\n\u001b[0m\u001b[0;32m      2\u001b[0m \u001b[0mG\u001b[0m\u001b[1;33m=\u001b[0m \u001b[0mqrcode\u001b[0m\u001b[1;33m.\u001b[0m\u001b[0mmake\u001b[0m\u001b[1;33m(\u001b[0m\u001b[1;34m'Some data here'\u001b[0m\u001b[1;33m)\u001b[0m\u001b[1;33m\u001b[0m\u001b[0m\n",
      "\u001b[1;31mModuleNotFoundError\u001b[0m: No module named 'qrcodeimg'"
     ]
    }
   ],
   "source": [
    "import qrcodeimg \n",
    "G= qrcode.make('Some data here')"
   ]
  },
  {
   "cell_type": "code",
   "execution_count": null,
   "metadata": {},
   "outputs": [],
   "source": []
  },
  {
   "cell_type": "code",
   "execution_count": 12,
   "metadata": {},
   "outputs": [
    {
     "ename": "ModuleNotFoundError",
     "evalue": "No module named 'pymaging'",
     "output_type": "error",
     "traceback": [
      "\u001b[1;31m---------------------------------------------------------------------------\u001b[0m",
      "\u001b[1;31mModuleNotFoundError\u001b[0m                       Traceback (most recent call last)",
      "\u001b[1;32m<ipython-input-12-86b65e653ffb>\u001b[0m in \u001b[0;36m<module>\u001b[1;34m()\u001b[0m\n\u001b[0;32m      1\u001b[0m \u001b[1;32mimport\u001b[0m \u001b[0mqrcode\u001b[0m\u001b[1;33m\u001b[0m\u001b[0m\n\u001b[1;32m----> 2\u001b[1;33m \u001b[1;32mfrom\u001b[0m \u001b[0mqrcode\u001b[0m\u001b[1;33m.\u001b[0m\u001b[0mimage\u001b[0m\u001b[1;33m.\u001b[0m\u001b[0mpure\u001b[0m \u001b[1;32mimport\u001b[0m \u001b[0mPymagingImage\u001b[0m\u001b[1;33m\u001b[0m\u001b[0m\n\u001b[0m\u001b[0;32m      3\u001b[0m \u001b[0mimg\u001b[0m \u001b[1;33m=\u001b[0m \u001b[0mqrcode\u001b[0m\u001b[1;33m.\u001b[0m\u001b[0mmake\u001b[0m\u001b[1;33m(\u001b[0m\u001b[1;34m'Some data here'\u001b[0m\u001b[1;33m,\u001b[0m \u001b[0mimage_factory\u001b[0m\u001b[1;33m=\u001b[0m\u001b[0mPymagingImage\u001b[0m\u001b[1;33m)\u001b[0m\u001b[1;33m\u001b[0m\u001b[0m\n",
      "\u001b[1;32m~\\Anaconda3\\lib\\site-packages\\qrcode\\image\\pure.py\u001b[0m in \u001b[0;36m<module>\u001b[1;34m()\u001b[0m\n\u001b[1;32m----> 1\u001b[1;33m \u001b[1;32mfrom\u001b[0m \u001b[0mpymaging\u001b[0m \u001b[1;32mimport\u001b[0m \u001b[0mImage\u001b[0m\u001b[1;33m\u001b[0m\u001b[0m\n\u001b[0m\u001b[0;32m      2\u001b[0m \u001b[1;32mfrom\u001b[0m \u001b[0mpymaging\u001b[0m\u001b[1;33m.\u001b[0m\u001b[0mcolors\u001b[0m \u001b[1;32mimport\u001b[0m \u001b[0mRGB\u001b[0m\u001b[1;33m\u001b[0m\u001b[0m\n\u001b[0;32m      3\u001b[0m \u001b[1;32mfrom\u001b[0m \u001b[0mpymaging\u001b[0m\u001b[1;33m.\u001b[0m\u001b[0mformats\u001b[0m \u001b[1;32mimport\u001b[0m \u001b[0mregistry\u001b[0m\u001b[1;33m\u001b[0m\u001b[0m\n\u001b[0;32m      4\u001b[0m \u001b[1;32mfrom\u001b[0m \u001b[0mpymaging\u001b[0m\u001b[1;33m.\u001b[0m\u001b[0mshapes\u001b[0m \u001b[1;32mimport\u001b[0m \u001b[0mLine\u001b[0m\u001b[1;33m\u001b[0m\u001b[0m\n\u001b[0;32m      5\u001b[0m \u001b[1;32mfrom\u001b[0m \u001b[0mpymaging\u001b[0m\u001b[1;33m.\u001b[0m\u001b[0mwebcolors\u001b[0m \u001b[1;32mimport\u001b[0m \u001b[0mBlack\u001b[0m\u001b[1;33m,\u001b[0m \u001b[0mWhite\u001b[0m\u001b[1;33m\u001b[0m\u001b[0m\n",
      "\u001b[1;31mModuleNotFoundError\u001b[0m: No module named 'pymaging'"
     ]
    }
   ],
   "source": [
    "import qrcode\n",
    "from qrcode.image.pure import PymagingImage\n",
    "img = qrcode.make('Some data here', image_factory=PymagingImage)"
   ]
  },
  {
   "cell_type": "code",
   "execution_count": 15,
   "metadata": {},
   "outputs": [],
   "source": [
    "# Import QRCode from pyqrcode \n",
    "import pyqrcode \n",
    "from pyqrcode import QRCode \n",
    "  \n",
    "  \n",
    "# String which represent the QR code \n",
    "s = \"www.geeksforgeeks.org\"\n",
    "  \n",
    "# Generate QR code \n",
    "url = pyqrcode.create(s) \n",
    "  \n",
    "# Create and save the png file naming \"myqr.png\" \n",
    "url.svg(\"myqr.svg\", scale = 8)"
   ]
  },
  {
   "cell_type": "code",
   "execution_count": null,
   "metadata": {},
   "outputs": [],
   "source": []
  }
 ],
 "metadata": {
  "kernelspec": {
   "display_name": "Python 3",
   "language": "python",
   "name": "python3"
  },
  "language_info": {
   "codemirror_mode": {
    "name": "ipython",
    "version": 3
   },
   "file_extension": ".py",
   "mimetype": "text/x-python",
   "name": "python",
   "nbconvert_exporter": "python",
   "pygments_lexer": "ipython3",
   "version": "3.6.5"
  }
 },
 "nbformat": 4,
 "nbformat_minor": 2
}
