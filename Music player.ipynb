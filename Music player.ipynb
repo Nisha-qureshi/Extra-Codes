{
 "cells": [
  {
   "cell_type": "code",
   "execution_count": 2,
   "metadata": {},
   "outputs": [
    {
     "ename": "SyntaxError",
     "evalue": "(unicode error) 'unicodeescape' codec can't decode bytes in position 2-3: truncated \\UXXXXXXXX escape (<ipython-input-2-accce2b7ebae>, line 7)",
     "output_type": "error",
     "traceback": [
      "\u001b[1;36m  File \u001b[1;32m\"<ipython-input-2-accce2b7ebae>\"\u001b[1;36m, line \u001b[1;32m7\u001b[0m\n\u001b[1;33m    mixer.music.load(\"C:\\Users\\hp\\Music\\Swag-Se-Swagat.mp3\")\u001b[0m\n\u001b[1;37m                    ^\u001b[0m\n\u001b[1;31mSyntaxError\u001b[0m\u001b[1;31m:\u001b[0m (unicode error) 'unicodeescape' codec can't decode bytes in position 2-3: truncated \\UXXXXXXXX escape\n"
     ]
    }
   ],
   "source": [
    "import pygame\n",
    "from pygame import mixer\n",
    "\n",
    "pygame.init()\n",
    "mixer.init()\n",
    "screen=pygame.display.set_mode((600,400))\n",
    "mixer.music.load(\"C:\\Users\\hp\\Music\\Swag-Se-Swagat.mp3\")\n",
    "mixer.music.play()\n",
    "\n",
    "print(\"Press 'p' to pause 'r' to resume\")\n",
    "print('Press \"q\" to quit')\n",
    "running=True\n",
    "while running:\n",
    "    for event in pygame.event.get():\n",
    "        if event.type==pygame.QUIT:\n",
    "            running=False\n",
    "        if event.type==pygame.KEYDOWN:\n",
    "            if event.key==pygame.K_p:\n",
    "                mixer.music.pause()\n",
    "            if event.key==pygame.K_r:\n",
    "                mixer.music.unpause()\n",
    "            if event.key==pygame.K_q:\n",
    "                running=False\n",
    "pygame.QUIT\n",
    "quit()"
   ]
  },
  {
   "cell_type": "code",
   "execution_count": null,
   "metadata": {},
   "outputs": [],
   "source": []
  }
 ],
 "metadata": {
  "kernelspec": {
   "display_name": "Python 3",
   "language": "python",
   "name": "python3"
  },
  "language_info": {
   "codemirror_mode": {
    "name": "ipython",
    "version": 3
   },
   "file_extension": ".py",
   "mimetype": "text/x-python",
   "name": "python",
   "nbconvert_exporter": "python",
   "pygments_lexer": "ipython3",
   "version": "3.6.5"
  }
 },
 "nbformat": 4,
 "nbformat_minor": 2
}
