{
 "cells": [
  {
   "cell_type": "markdown",
   "metadata": {},
   "source": [
    "# Guessing game"
   ]
  },
  {
   "cell_type": "code",
   "execution_count": 1,
   "metadata": {},
   "outputs": [
    {
     "name": "stdout",
     "output_type": "stream",
     "text": [
      "If you want to exit game then type 'exit'\n",
      "Guess a number: 8\n",
      "too high\n",
      "Guess a number: 3\n",
      "too low\n",
      "Guess a number: 4\n",
      "too low\n",
      "Guess a number: 6\n",
      "too high\n",
      "Guess a number: 5\n",
      "Great! You win\n",
      "You win in 5 times\n",
      "Guess a number: 4\n",
      "too low\n",
      "Guess a number: 8\n",
      "too high\n",
      "Guess a number: 6\n",
      "too high\n",
      "Guess a number: 5\n",
      "Great! You win\n",
      "You win in 9 times\n",
      "Guess a number: exit\n",
      "You play this game 10 times\n"
     ]
    }
   ],
   "source": [
    "import random\n",
    "print(\"If you want to exit game then type 'exit'\"  )\n",
    "c=range(1,100)\n",
    "s=random.randint(1,9)\n",
    "for i in c:\n",
    "    a=input(\"Guess a number: \")\n",
    "    if a==\"exit\":\n",
    "        break;\n",
    "    a=int(a)\n",
    "    if a==s:\n",
    "        print(\"Great! You win\")\n",
    "        print(f\"You win in {i} times\")\n",
    "\n",
    "        continue\n",
    "    elif a<s:\n",
    "        print(\"too low\")\n",
    "        continue\n",
    "    else:\n",
    "        print(\"too high\")\n",
    "        continue\n",
    "    i+=1\n",
    "print(f\"You play this game {i} times\")\n"
   ]
  },
  {
   "cell_type": "markdown",
   "metadata": {},
   "source": [
    "# Program for adding into list from more or less number"
   ]
  },
  {
   "cell_type": "code",
   "execution_count": 6,
   "metadata": {},
   "outputs": [
    {
     "name": "stdout",
     "output_type": "stream",
     "text": [
      "Number of Element: 5\n",
      "Enter choice less or more: more\n",
      "Enter number from which you want values less or more: 6\n",
      "Enter 0 element: 7\n",
      "Now the list is : [7]\n",
      "Enter 1 element: 4\n",
      "Now the list is : [7, 4]\n",
      "Enter 2 element: 8\n",
      "Now the list is : [7, 4, 8]\n",
      "Enter 3 element: 3\n",
      "Now the list is : [7, 4, 8, 3]\n",
      "Enter 4 element: 9\n",
      "Now the list is : [7, 4, 8, 3, 9]\n"
     ]
    },
    {
     "ename": "IndexError",
     "evalue": "list index out of range",
     "output_type": "error",
     "traceback": [
      "\u001b[1;31m---------------------------------------------------------------------------\u001b[0m",
      "\u001b[1;31mIndexError\u001b[0m                                Traceback (most recent call last)",
      "\u001b[1;32m<ipython-input-6-bcdfe77fbce0>\u001b[0m in \u001b[0;36m<module>\u001b[1;34m()\u001b[0m\n\u001b[0;32m     14\u001b[0m \u001b[1;33m\u001b[0m\u001b[0m\n\u001b[0;32m     15\u001b[0m     \u001b[1;32melif\u001b[0m \u001b[0mchoice\u001b[0m\u001b[1;33m==\u001b[0m\u001b[1;34m\"more\"\u001b[0m\u001b[1;33m:\u001b[0m\u001b[1;33m\u001b[0m\u001b[0m\n\u001b[1;32m---> 16\u001b[1;33m         \u001b[1;32mif\u001b[0m \u001b[0ml\u001b[0m\u001b[1;33m[\u001b[0m\u001b[0mj\u001b[0m\u001b[1;33m]\u001b[0m\u001b[1;33m>\u001b[0m\u001b[0mf\u001b[0m\u001b[1;33m:\u001b[0m\u001b[1;33m\u001b[0m\u001b[0m\n\u001b[0m\u001b[0;32m     17\u001b[0m             \u001b[0mnew_list\u001b[0m\u001b[1;33m.\u001b[0m\u001b[0mappend\u001b[0m\u001b[1;33m(\u001b[0m\u001b[0ml\u001b[0m\u001b[1;33m[\u001b[0m\u001b[0mj\u001b[0m\u001b[1;33m]\u001b[0m\u001b[1;33m)\u001b[0m\u001b[1;33m\u001b[0m\u001b[0m\n\u001b[0;32m     18\u001b[0m     \u001b[0mj\u001b[0m\u001b[1;33m+=\u001b[0m\u001b[1;36m1\u001b[0m\u001b[1;33m\u001b[0m\u001b[0m\n",
      "\u001b[1;31mIndexError\u001b[0m: list index out of range"
     ]
    }
   ],
   "source": [
    "\n",
    "length=int(input(\"Number of Element: \"))\n",
    "l=[]\n",
    "new_list=[]\n",
    "choice=input(\"Enter choice less or more: \")\n",
    "f=int(input(\"Enter number from which you want values less or more: \"))\n",
    "for i in range(length):\n",
    "    new_ele=int(input(f\"Enter {i} element: \"))\n",
    "    l.append(new_ele)\n",
    "    print(f\"Now the list is : {l}\")\n",
    "for j in l:\n",
    "    if choice==\"less\":\n",
    "        if l[j]<f:\n",
    "            new_list.append(l[j])\n",
    "\n",
    "    elif choice==\"more\":\n",
    "        if l[j]>f:\n",
    "            new_list.append(l[j])\n",
    "    j+=1\n",
    "    \n",
    "        # else:\n",
    "          #   print(\"Choose right choice: \")\n"
   ]
  },
  {
   "cell_type": "markdown",
   "metadata": {},
   "source": [
    "#### "
   ]
  }
 ],
 "metadata": {
  "kernelspec": {
   "display_name": "Python 3",
   "language": "python",
   "name": "python3"
  },
  "language_info": {
   "codemirror_mode": {
    "name": "ipython",
    "version": 3
   },
   "file_extension": ".py",
   "mimetype": "text/x-python",
   "name": "python",
   "nbconvert_exporter": "python",
   "pygments_lexer": "ipython3",
   "version": "3.6.5"
  }
 },
 "nbformat": 4,
 "nbformat_minor": 2
}
